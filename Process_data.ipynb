{
 "cells": [
  {
   "cell_type": "markdown",
   "id": "2a612c99",
   "metadata": {},
   "source": [
    "# Skills Ladder Process Data"
   ]
  },
  {
   "cell_type": "markdown",
   "id": "e47943da",
   "metadata": {},
   "source": [
    "Skills Ladder is an IT training company based in Gloucestershire, United Kingdom. This notebook aims to process data on the demographic make-up of past trainees for analysis. This is done by..."
   ]
  },
  {
   "cell_type": "markdown",
   "id": "dc7bb677",
   "metadata": {},
   "source": [
    "## Read-in data"
   ]
  },
  {
   "cell_type": "code",
   "execution_count": 1,
   "id": "9e6debb5",
   "metadata": {},
   "outputs": [],
   "source": [
    "import pandas as pd\n",
    "import numpy as np\n",
    "\n",
    "df = pd.read_csv('C:/Users/HUAWEI/Desktop/Projects/Skills-Ladder-Data-Analyis/learner_data.csv')"
   ]
  },
  {
   "cell_type": "markdown",
   "id": "b3998e27",
   "metadata": {},
   "source": [
    "## Overview data"
   ]
  },
  {
   "cell_type": "code",
   "execution_count": 2,
   "id": "b0f3f63c",
   "metadata": {},
   "outputs": [
    {
     "name": "stdout",
     "output_type": "stream",
     "text": [
      "\n",
      "Columns --- 15\n",
      "Rows --- 1342\n",
      "\n",
      "\u001b[1mColumn names:\u001b[0m\n",
      "\n",
      "Date\n",
      "Bday\n",
      "Ethnicity\n",
      "Sex\n",
      "Hoursworked\n",
      "Health2\n",
      "Health1\n",
      "Hhs\n",
      "Benefit-Course\n",
      "Job-Role\n",
      "Job-Involve\n",
      "Aspirations\n",
      "Prevent\n",
      "Overcome\n",
      "Qualification\n"
     ]
    }
   ],
   "source": [
    "# gets an overview of the quantity of data\n",
    "print('\\n' + 'Columns --- ' + str(len(df.columns)))\n",
    "print('Rows --- ' + str(len(df)) + '\\n')\n",
    "print('\\033[1m' + 'Column names:' + '\\033[0m' + '\\n')\n",
    "\n",
    "# prints the column names\n",
    "for i in range(len(df.columns)):\n",
    "    print(df.columns[i].title())"
   ]
  },
  {
   "cell_type": "code",
   "execution_count": 3,
   "id": "2e3ea303",
   "metadata": {},
   "outputs": [
    {
     "name": "stdout",
     "output_type": "stream",
     "text": [
      "\n",
      "\u001b[1mNA counts:\u001b[0m\n"
     ]
    },
    {
     "data": {
      "text/plain": [
       "date                 0\n",
       "bday                 0\n",
       "ethnicity            0\n",
       "sex                  0\n",
       "hoursworked          4\n",
       "health2           1143\n",
       "health1           1078\n",
       "hhs                  0\n",
       "benefit-course       0\n",
       "job-role             0\n",
       "job-involve          0\n",
       "aspirations          0\n",
       "prevent              0\n",
       "overcome             0\n",
       "qualification        0\n",
       "dtype: int64"
      ]
     },
     "execution_count": 3,
     "metadata": {},
     "output_type": "execute_result"
    }
   ],
   "source": [
    "# checks for NAs\n",
    "print('\\n' + '\\033[1m' + 'NA counts:' + '\\033[0m')\n",
    "df.isna().sum()"
   ]
  },
  {
   "cell_type": "markdown",
   "id": "fd363cac",
   "metadata": {},
   "source": [
    "## Dates"
   ]
  },
  {
   "cell_type": "code",
   "execution_count": 4,
   "id": "7759b42a",
   "metadata": {},
   "outputs": [
    {
     "name": "stdout",
     "output_type": "stream",
     "text": [
      "\n",
      "numerical_date --- 202006\n",
      "date_label --- 06/20\n",
      "\n"
     ]
    }
   ],
   "source": [
    "# reassigns the date labels for numerical ordering during plotting and creates a simplified label for vizualization\n",
    "df = df.assign(numerical_date = df['date'].apply(lambda x: x.split('/')[2] + x.split('/')[1]))\n",
    "df = df.assign(date_label = df['date'].apply(lambda x: x.split('/')[1] + '/' + x.split('/')[2][2:4]))\n",
    "\n",
    "# prints examples of the new formats\n",
    "print('\\n' + 'numerical_date --- ' + df.loc[0,'numerical_date'])\n",
    "print('date_label --- ' + df.loc[0,'date_label'] + '\\n')"
   ]
  },
  {
   "cell_type": "code",
   "execution_count": 5,
   "id": "248a6a93",
   "metadata": {},
   "outputs": [
    {
     "name": "stdout",
     "output_type": "stream",
     "text": [
      "\n",
      "1669-09-21\n",
      "\n"
     ]
    }
   ],
   "source": [
    "# identifies a data formatting error in the bday column\n",
    "lengths = df['bday'].apply(lambda x: len(x.split('/')))\n",
    "print('\\n' + df[lengths!=3].bday.item() + '\\n')"
   ]
  },
  {
   "cell_type": "code",
   "execution_count": 6,
   "id": "3383a0c3",
   "metadata": {},
   "outputs": [
    {
     "name": "stdout",
     "output_type": "stream",
     "text": [
      "\n",
      "numerical_date --- 200108\n",
      "date_label --- 08/01\n",
      "\n"
     ]
    }
   ],
   "source": [
    "# reassigns the problematic value to something that can be processed\n",
    "df.loc[lengths!=3,'bday'] = '21/09/1969'\n",
    "\n",
    "# reassigns the bday labels for numerical ordering during plotting and creates a simplified label for vizualization\n",
    "df = df.assign(numerical_bday = df['bday'].apply(lambda x: x.split('/')[2] + x.split('/')[1]))\n",
    "df = df.assign(bday_label = df['bday'].apply(lambda x: x.split('/')[1] + '/' + x.split('/')[2][2:4]))\n",
    "\n",
    "# prints examples of the new formats\n",
    "print('\\n' + 'numerical_date --- ' + df.loc[0,'numerical_bday'])\n",
    "print('date_label --- ' + df.loc[0,'bday_label']+ '\\n')"
   ]
  },
  {
   "cell_type": "code",
   "execution_count": 7,
   "id": "32e864d8",
   "metadata": {},
   "outputs": [
    {
     "name": "stdout",
     "output_type": "stream",
     "text": [
      "\n",
      "Age now = 22\n",
      "Age then = 19\n",
      "\n"
     ]
    }
   ],
   "source": [
    "# creates an age column based on today's date\n",
    "from datetime import date\n",
    "\n",
    "now_year = date.today().strftime('%d/%m/%Y').split('/')[2]\n",
    "then_year = df['date'].apply(lambda x: x.split('/')[2])\n",
    "bday_year = df['bday'].apply(lambda x: x.split('/')[2])\n",
    "\n",
    "# creates a list fo age now and then\n",
    "age_now = []\n",
    "age_then = []\n",
    "for i in range(len(bday_year)):\n",
    "    age_now.append(int(now_year) - int(bday_year[i]))\n",
    "    age_then.append(int(then_year[i]) - int(bday_year[i]))\n",
    "    \n",
    "df = df.assign(age_now = age_now)\n",
    "df = df.assign(age_then = age_then)\n",
    "\n",
    "# prints examples showing the differences\n",
    "print('\\n' + 'Age now = ' + str(df['age_now'][0]))\n",
    "print('Age then = ' + str(df['age_then'][0]) + '\\n')"
   ]
  },
  {
   "cell_type": "code",
   "execution_count": 8,
   "id": "4e4b2039",
   "metadata": {},
   "outputs": [
    {
     "data": {
      "image/png": "[encoded data removed]",
      "text/plain": [
       "<Figure size 1008x288 with 2 Axes>"
      ]
     },
     "metadata": {
      "needs_background": "light"
     },
     "output_type": "display_data"
    }
   ],
   "source": [
    "import matplotlib.pyplot as plt\n",
    "\n",
    "#checks for outlier values\n",
    "fig, ax = plt.subplots(1, 2, figsize=(14,4))\n",
    "\n",
    "ax[0].hist(df['age_now']);\n",
    "ax[0].title.set_text('Age now')\n",
    "ax[1].hist(df['age_then'], color='darkred');\n",
    "ax[1].title.set_text('Age then')"
   ]
  },
  {
   "cell_type": "code",
   "execution_count": 9,
   "id": "83994bed",
   "metadata": {},
   "outputs": [
    {
     "data": {
      "image/png": "[encoded data removed]",
      "text/plain": [
       "<Figure size 1008x288 with 2 Axes>"
      ]
     },
     "metadata": {
      "needs_background": "light"
     },
     "output_type": "display_data"
    }
   ],
   "source": [
    "# reassigns the mislabelled age to the median of the respective age columns\n",
    "df.loc[df.age_now>100, 'age_now'] = np.median(df['age_now'])\n",
    "df.loc[df.age_then>100, 'age_then'] = np.median(df['age_then'])\n",
    "\n",
    "#checks again for outlier values\n",
    "fig, ax = plt.subplots(1, 2, figsize=(14,4))\n",
    "\n",
    "ax[0].hist(df['age_now']);\n",
    "ax[0].title.set_text('Age now')\n",
    "ax[1].hist(df['age_then'], color='darkred');\n",
    "ax[1].title.set_text('Age then')"
   ]
  },
  {
   "cell_type": "markdown",
   "id": "8544c758",
   "metadata": {},
   "source": [
    "## Save Data"
   ]
  },
  {
   "cell_type": "code",
   "execution_count": 10,
   "id": "b9a690ce",
   "metadata": {},
   "outputs": [],
   "source": [
    "df.to_csv('C:/Users/HUAWEI/Desktop/Projects/Skills-Ladder-Data-Analyis/processed_learner_data.csv', index=False)"
   ]
  }
 ],
 "metadata": {
  "kernelspec": {
   "display_name": "Python 3 (ipykernel)",
   "language": "python",
   "name": "python3"
  },
  "language_info": {
   "codemirror_mode": {
    "name": "ipython",
    "version": 3
   },
   "file_extension": ".py",
   "mimetype": "text/x-python",
   "name": "python",
   "nbconvert_exporter": "python",
   "pygments_lexer": "ipython3",
   "version": "3.10.5"
  }
 },
 "nbformat": 4,
 "nbformat_minor": 5
}
